{
 "cells": [
  {
   "cell_type": "markdown",
   "metadata": {},
   "source": [
    "# House Prices: Advanced Regression Techniques"
   ]
  },
  {
   "cell_type": "markdown",
   "metadata": {},
   "source": [
    "1. Hypothesis (Before looking the data)\n",
    "\n",
    "   Larger area, higher price\n",
    "   More Bedroom, higher price\n",
    "   More Bathroom, higher price\n",
    "   Higher School rate, higher price\n",
    "   Newer house, higher price\n",
    "   Lower store, higher price\n",
    "   House type (single family, townhouse, conde), price decrease\n",
    "   Sale type (loan, cash), price decrease\n",
    "   Others (Remodel, roof, safty)"
   ]
  },
  {
   "cell_type": "markdown",
   "metadata": {},
   "source": [
    "2. Look at the data"
   ]
  },
  {
   "cell_type": "code",
   "execution_count": 523,
   "metadata": {},
   "outputs": [],
   "source": [
    "# Import packages\n",
    "import numpy as np\n",
    "import pandas as pd\n",
    "import matplotlib.pyplot as plt\n",
    "import seaborn as sns\n",
    "from sklearn.preprocessing import Imputer\n",
    "from sklearn.preprocessing import LabelEncoder, OneHotEncoder, MinMaxScaler\n",
    "from sklearn.model_selection import train_test_split\n",
    "\n",
    "\n",
    "from scipy import stats\n",
    "from statsmodels.formula.api import ols\n",
    "from statsmodels.stats.anova import anova_lm\n",
    "from statsmodels.stats.multicomp import pairwise_tukeyhsd"
   ]
  },
  {
   "cell_type": "code",
   "execution_count": 518,
   "metadata": {},
   "outputs": [
    {
     "name": "stdout",
     "output_type": "stream",
     "text": [
      "Shape of Train (1460, 81)\n",
      "Shape of Test (1459, 80)\n",
      "Shape of Data (2919, 81)\n"
     ]
    }
   ],
   "source": [
    "# Reading Data\n",
    "train = pd.read_csv('C:\\\\Users\\\\alexliuyi\\\\Documents\\\\Kaggle\\\\Home Price\\\\train.csv')\n",
    "test  = pd.read_csv('C:\\\\Users\\\\alexliuyi\\\\Documents\\\\Kaggle\\\\Home Price\\\\test.csv')\n",
    "data  = train.append(test, sort=False)\n",
    "\n",
    "print('Shape of Train', train.shape)\n",
    "print('Shape of Test',  test.shape)\n",
    "print('Shape of Data',  data.shape)"
   ]
  },
  {
   "cell_type": "code",
   "execution_count": null,
   "metadata": {},
   "outputs": [],
   "source": []
  },
  {
   "cell_type": "code",
   "execution_count": 427,
   "metadata": {},
   "outputs": [
    {
     "name": "stdout",
     "output_type": "stream",
     "text": [
      "Number of Numerical Variables:    37 Index(['Id', 'MSSubClass', 'LotFrontage', 'LotArea', 'OverallQual',\n",
      "       'OverallCond', 'YearBuilt', 'YearRemodAdd', 'MasVnrArea', 'BsmtFinSF1',\n",
      "       'BsmtFinSF2', 'BsmtUnfSF', 'TotalBsmtSF', '1stFlrSF', '2ndFlrSF',\n",
      "       'LowQualFinSF', 'GrLivArea', 'BsmtFullBath', 'BsmtHalfBath', 'FullBath',\n",
      "       'HalfBath', 'BedroomAbvGr', 'KitchenAbvGr', 'TotRmsAbvGrd',\n",
      "       'Fireplaces', 'GarageYrBlt', 'GarageCars', 'GarageArea', 'WoodDeckSF',\n",
      "       'OpenPorchSF', 'EnclosedPorch', '3SsnPorch', 'ScreenPorch', 'PoolArea',\n",
      "       'MiscVal', 'MoSold', 'YrSold'],\n",
      "      dtype='object')\n",
      "Number of Categorical Variables:  38 Index(['MSZoning', 'Street', 'LotShape', 'LandContour', 'Utilities',\n",
      "       'LotConfig', 'LandSlope', 'Neighborhood', 'Condition1', 'Condition2',\n",
      "       'BldgType', 'HouseStyle', 'RoofStyle', 'RoofMatl', 'Exterior1st',\n",
      "       'Exterior2nd', 'MasVnrType', 'ExterQual', 'ExterCond', 'Foundation',\n",
      "       'BsmtQual', 'BsmtCond', 'BsmtExposure', 'BsmtFinType1', 'BsmtFinType2',\n",
      "       'Heating', 'HeatingQC', 'CentralAir', 'Electrical', 'KitchenQual',\n",
      "       'Functional', 'GarageType', 'GarageFinish', 'GarageQual', 'GarageCond',\n",
      "       'PavedDrive', 'SaleType', 'SaleCondition'],\n",
      "      dtype='object')\n"
     ]
    }
   ],
   "source": [
    "# Define Numerical and Categorical Variable, as well as Dependent Variable\n",
    "number_var = data1.dtypes.index[data1.dtypes.values != 'object']\n",
    "cate_var =   data1.dtypes.index[data1.dtypes.values == 'object']\n",
    "\n",
    "y, number_var = number_var[-1], number_var[:-1]\n",
    "\n",
    "print('Number of Numerical Variables:   ', len(number_var), number_var)\n",
    "print('Number of Categorical Variables: ', len(cate_var), cate_var)"
   ]
  },
  {
   "cell_type": "code",
   "execution_count": null,
   "metadata": {},
   "outputs": [],
   "source": [
    "# Check Missing Values\n",
    "# Numerical Variables\n",
    "num_missing = round(np.sum(data[number_var].isnull())/data.shape[0]*100,2)\n",
    "print(num_missing[num_missing>0].sort_values(ascending=False))"
   ]
  },
  {
   "cell_type": "code",
   "execution_count": null,
   "metadata": {},
   "outputs": [],
   "source": [
    "# Plot Scatter for LotFrontage\n",
    "plt.scatter(data1['LotFrontage'],data1['SalePrice'])"
   ]
  },
  {
   "cell_type": "code",
   "execution_count": null,
   "metadata": {},
   "outputs": [],
   "source": [
    "# Impute with Median for Numberical Variables\n",
    "imr = Imputer(missing_values = 'NaN', strategy = 'mean')"
   ]
  },
  {
   "cell_type": "code",
   "execution_count": null,
   "metadata": {},
   "outputs": [],
   "source": [
    "# Descriptve for Numberical Variables\n",
    "data1[number_var[1:10]].describe()"
   ]
  },
  {
   "cell_type": "code",
   "execution_count": null,
   "metadata": {},
   "outputs": [],
   "source": [
    "data1[number_var[10:20]].describe()"
   ]
  },
  {
   "cell_type": "code",
   "execution_count": null,
   "metadata": {},
   "outputs": [],
   "source": [
    "data1[number_var[20:30]].describe()"
   ]
  },
  {
   "cell_type": "code",
   "execution_count": null,
   "metadata": {},
   "outputs": [],
   "source": [
    "data1[number_var[30:]].describe()"
   ]
  },
  {
   "cell_type": "code",
   "execution_count": null,
   "metadata": {},
   "outputs": [],
   "source": [
    "%matplotlib inline\n",
    "plt.figure(1)\n",
    "plt.plot(data1.groupby(['YearBuilt']).median()['SalePrice'], color='blue')\n",
    "plt.plot(data1.groupby(['YearRemodAdd']).median()['SalePrice'], color='green')\n",
    "plt.plot(data1.groupby(['GarageYrBlt']).median()['SalePrice'], color='red')\n",
    "plt.plot(data1.groupby(['YrSold']).median()['SalePrice'], color='purple')"
   ]
  },
  {
   "cell_type": "markdown",
   "metadata": {},
   "source": [
    "From above plot, we will just use the YearBuilt variable"
   ]
  },
  {
   "cell_type": "code",
   "execution_count": null,
   "metadata": {},
   "outputs": [],
   "source": [
    "corr_var = ['LotArea','MasVnrArea','BsmtFinSF1','BsmtFinSF2','BsmtUnfSF',\n",
    "            'TotalBsmtSF','1stFlrSF','2ndFlrSF','LowQualFinSF','GrLivArea','OpenPorchSF',\n",
    "            'GarageArea','PoolArea',\n",
    "            'BsmtFullBath','BsmtHalfBath','FullBath','HalfBath','BedroomAbvGr','KitchenAbvGr','Fireplaces','GarageCars',\n",
    "            'SalePrice']\n",
    "data_corr = data1[corr_var]\n",
    "\n",
    "corr = data_corr.corr()\n",
    "\n",
    "# Generate a mask for the upper triangle\n",
    "mask = np.zeros_like(corr, dtype=np.bool)\n",
    "mask[np.triu_indices_from(mask)] = True\n",
    "\n",
    "f, ax = plt.subplots(figsize=(20, 10))\n",
    "\n",
    "cmap = sns.diverging_palette(220, 50, as_cmap=True)\n",
    "\n",
    "sns.heatmap(corr, mask=mask, cmap=cmap)"
   ]
  },
  {
   "cell_type": "code",
   "execution_count": null,
   "metadata": {},
   "outputs": [],
   "source": [
    "corr[corr>0.5]"
   ]
  },
  {
   "cell_type": "markdown",
   "metadata": {},
   "source": [
    "Correlation greater than 0.5 with SalePrice:\n",
    "TotalBsmtSF, 1stFlrSF, GrLivArea, FullBath, GarageArea, GarageCars\n",
    "\n",
    "However, TotalBsmtSF & 1stFlrSF, GrLivArea & FullBath, GarageArea & GarageCars may have multicollinearity\n",
    "\n",
    "So just choose TotalBsmtSF, GrLivArea, GarageArea as final numerical predict variables."
   ]
  },
  {
   "cell_type": "code",
   "execution_count": null,
   "metadata": {},
   "outputs": [],
   "source": [
    "# Check Distribution\n",
    "boxplot_var = ['TotalBsmtSF','GrLivArea','GarageArea']\n",
    "data1[boxplot_var].boxplot()"
   ]
  },
  {
   "cell_type": "code",
   "execution_count": null,
   "metadata": {},
   "outputs": [],
   "source": [
    "# Check Missing Values\n",
    "# Categorical Variables\n",
    "cat_missing = round(np.sum(data[cate_var].isnull())/data.shape[0]*100,2)\n",
    "print(cat_missing[cat_missing>0].sort_values(ascending=False))"
   ]
  },
  {
   "cell_type": "code",
   "execution_count": null,
   "metadata": {},
   "outputs": [],
   "source": [
    "# Categorical Variables\n",
    "for i in cate_var:\n",
    "    print(i, '\\n', pd.value_counts(data1[i]), '\\n')"
   ]
  },
  {
   "cell_type": "code",
   "execution_count": null,
   "metadata": {},
   "outputs": [],
   "source": [
    "f, ax = plt.subplots(figsize=(20, 8))\n",
    "sns.violinplot(data1.SaleCondition , data1.SalePrice)"
   ]
  },
  {
   "cell_type": "code",
   "execution_count": null,
   "metadata": {},
   "outputs": [],
   "source": [
    "# ANOVA test for difference\n",
    "data2 = data1[np.isnan(data1['SalePrice'])==False]\n",
    "\n",
    "model  = ols('SalePrice ~ MSZoning', data2).fit()\n",
    "anovat = anova_lm(model)\n",
    "print(anovat)"
   ]
  },
  {
   "cell_type": "code",
   "execution_count": null,
   "metadata": {},
   "outputs": [],
   "source": [
    "# If ANOVA test significant, move to pairwies tukey test\n",
    "print(pairwise_tukeyhsd(data2.SalePrice, data2.SaleCondition))"
   ]
  },
  {
   "cell_type": "markdown",
   "metadata": {},
   "source": [
    "Choose: BldgType, ExterQual, KitchenQual, Neighbor"
   ]
  },
  {
   "cell_type": "code",
   "execution_count": 428,
   "metadata": {},
   "outputs": [],
   "source": [
    "var_final = ['TotalBsmtSF','GrLivArea','GarageArea','BldgType','ExterQual','KitchenQual','Neighborhood','SalePrice']"
   ]
  },
  {
   "cell_type": "code",
   "execution_count": 471,
   "metadata": {},
   "outputs": [],
   "source": [
    "# Delete Variables with Missing Values >= 20%\n",
    "data_raw = data[var_final]"
   ]
  },
  {
   "cell_type": "code",
   "execution_count": 430,
   "metadata": {},
   "outputs": [
    {
     "data": {
      "text/html": [
       "<div>\n",
       "<style scoped>\n",
       "    .dataframe tbody tr th:only-of-type {\n",
       "        vertical-align: middle;\n",
       "    }\n",
       "\n",
       "    .dataframe tbody tr th {\n",
       "        vertical-align: top;\n",
       "    }\n",
       "\n",
       "    .dataframe thead th {\n",
       "        text-align: right;\n",
       "    }\n",
       "</style>\n",
       "<table border=\"1\" class=\"dataframe\">\n",
       "  <thead>\n",
       "    <tr style=\"text-align: right;\">\n",
       "      <th></th>\n",
       "      <th>TotalBsmtSF</th>\n",
       "      <th>GrLivArea</th>\n",
       "      <th>GarageArea</th>\n",
       "      <th>BldgType</th>\n",
       "      <th>ExterQual</th>\n",
       "      <th>KitchenQual</th>\n",
       "      <th>Neighborhood</th>\n",
       "      <th>SalePrice</th>\n",
       "    </tr>\n",
       "  </thead>\n",
       "  <tbody>\n",
       "    <tr>\n",
       "      <th>0</th>\n",
       "      <td>856.0</td>\n",
       "      <td>1710</td>\n",
       "      <td>548.0</td>\n",
       "      <td>1Fam</td>\n",
       "      <td>Gd</td>\n",
       "      <td>Gd</td>\n",
       "      <td>CollgCr</td>\n",
       "      <td>208500.0</td>\n",
       "    </tr>\n",
       "    <tr>\n",
       "      <th>1</th>\n",
       "      <td>1262.0</td>\n",
       "      <td>1262</td>\n",
       "      <td>460.0</td>\n",
       "      <td>1Fam</td>\n",
       "      <td>TA</td>\n",
       "      <td>TA</td>\n",
       "      <td>Veenker</td>\n",
       "      <td>181500.0</td>\n",
       "    </tr>\n",
       "    <tr>\n",
       "      <th>2</th>\n",
       "      <td>920.0</td>\n",
       "      <td>1786</td>\n",
       "      <td>608.0</td>\n",
       "      <td>1Fam</td>\n",
       "      <td>Gd</td>\n",
       "      <td>Gd</td>\n",
       "      <td>CollgCr</td>\n",
       "      <td>223500.0</td>\n",
       "    </tr>\n",
       "    <tr>\n",
       "      <th>3</th>\n",
       "      <td>756.0</td>\n",
       "      <td>1717</td>\n",
       "      <td>642.0</td>\n",
       "      <td>1Fam</td>\n",
       "      <td>TA</td>\n",
       "      <td>Gd</td>\n",
       "      <td>Crawfor</td>\n",
       "      <td>140000.0</td>\n",
       "    </tr>\n",
       "    <tr>\n",
       "      <th>4</th>\n",
       "      <td>1145.0</td>\n",
       "      <td>2198</td>\n",
       "      <td>836.0</td>\n",
       "      <td>1Fam</td>\n",
       "      <td>Gd</td>\n",
       "      <td>Gd</td>\n",
       "      <td>NoRidge</td>\n",
       "      <td>250000.0</td>\n",
       "    </tr>\n",
       "  </tbody>\n",
       "</table>\n",
       "</div>"
      ],
      "text/plain": [
       "   TotalBsmtSF  GrLivArea  GarageArea BldgType ExterQual KitchenQual  \\\n",
       "0        856.0       1710       548.0     1Fam        Gd          Gd   \n",
       "1       1262.0       1262       460.0     1Fam        TA          TA   \n",
       "2        920.0       1786       608.0     1Fam        Gd          Gd   \n",
       "3        756.0       1717       642.0     1Fam        TA          Gd   \n",
       "4       1145.0       2198       836.0     1Fam        Gd          Gd   \n",
       "\n",
       "  Neighborhood  SalePrice  \n",
       "0      CollgCr   208500.0  \n",
       "1      Veenker   181500.0  \n",
       "2      CollgCr   223500.0  \n",
       "3      Crawfor   140000.0  \n",
       "4      NoRidge   250000.0  "
      ]
     },
     "execution_count": 430,
     "metadata": {},
     "output_type": "execute_result"
    }
   ],
   "source": [
    "data_raw.head()"
   ]
  },
  {
   "cell_type": "code",
   "execution_count": 472,
   "metadata": {},
   "outputs": [],
   "source": [
    "# Re-categorize\n",
    "neighbor_high = ['NoRidge','NridgHt','StoneBr']\n",
    "\n",
    "for i in range(len(data_raw.Neighborhood)):\n",
    "    if data_raw.Neighborhood.values[i] in neighbor_high:\n",
    "        data_raw.Neighborhood.values[i] = 'High'\n",
    "    else:\n",
    "        data_raw.Neighborhood.values[i] = 'Low'\n",
    "\n"
   ]
  },
  {
   "cell_type": "code",
   "execution_count": 484,
   "metadata": {},
   "outputs": [
    {
     "name": "stderr",
     "output_type": "stream",
     "text": [
      "C:\\Users\\alexliuyi\\Anaconda3\\envs\\python3.7\\lib\\site-packages\\ipykernel_launcher.py:9: SettingWithCopyWarning: \n",
      "A value is trying to be set on a copy of a slice from a DataFrame.\n",
      "Try using .loc[row_indexer,col_indexer] = value instead\n",
      "\n",
      "See the caveats in the documentation: http://pandas.pydata.org/pandas-docs/stable/indexing.html#indexing-view-versus-copy\n",
      "  if __name__ == '__main__':\n"
     ]
    }
   ],
   "source": [
    "# Impute Missing Value\n",
    "for i in range(len(data_raw.KitchenQual)):\n",
    "    if pd.isnull(data_raw.KitchenQual.values[i])>0 :\n",
    "        data_raw.KitchenQual.values[i] = 'TA'\n",
    "\n",
    "# Continuous Variable\n",
    "cont_var = ['GarageArea','TotalBsmtSF']\n",
    "for i in cont_var:\n",
    "    data_raw[i] = data_raw[i].replace(np.nan, np.mean(data_raw[i]))\n"
   ]
  },
  {
   "cell_type": "code",
   "execution_count": 474,
   "metadata": {},
   "outputs": [
    {
     "name": "stderr",
     "output_type": "stream",
     "text": [
      "C:\\Users\\alexliuyi\\Anaconda3\\envs\\python3.7\\lib\\site-packages\\ipykernel_launcher.py:6: SettingWithCopyWarning: \n",
      "A value is trying to be set on a copy of a slice from a DataFrame.\n",
      "Try using .loc[row_indexer,col_indexer] = value instead\n",
      "\n",
      "See the caveats in the documentation: http://pandas.pydata.org/pandas-docs/stable/indexing.html#indexing-view-versus-copy\n",
      "  \n"
     ]
    }
   ],
   "source": [
    "# LabelEncoder\n",
    "label = LabelEncoder()\n",
    "label_var = ['BldgType','ExterQual','KitchenQual','Neighborhood']\n",
    "\n",
    "for var in label_var:\n",
    "    data_raw[var] = label.fit_transform(data_raw[var])\n"
   ]
  },
  {
   "cell_type": "code",
   "execution_count": 501,
   "metadata": {},
   "outputs": [
    {
     "data": {
      "text/html": [
       "<div>\n",
       "<style scoped>\n",
       "    .dataframe tbody tr th:only-of-type {\n",
       "        vertical-align: middle;\n",
       "    }\n",
       "\n",
       "    .dataframe tbody tr th {\n",
       "        vertical-align: top;\n",
       "    }\n",
       "\n",
       "    .dataframe thead th {\n",
       "        text-align: right;\n",
       "    }\n",
       "</style>\n",
       "<table border=\"1\" class=\"dataframe\">\n",
       "  <thead>\n",
       "    <tr style=\"text-align: right;\">\n",
       "      <th></th>\n",
       "      <th>TotalBsmtSF</th>\n",
       "      <th>GrLivArea</th>\n",
       "      <th>GarageArea</th>\n",
       "      <th>BldgType</th>\n",
       "      <th>ExterQual</th>\n",
       "      <th>KitchenQual</th>\n",
       "      <th>Neighborhood</th>\n",
       "      <th>SalePrice</th>\n",
       "    </tr>\n",
       "  </thead>\n",
       "  <tbody>\n",
       "    <tr>\n",
       "      <th>0</th>\n",
       "      <td>856.0</td>\n",
       "      <td>1710</td>\n",
       "      <td>548.0</td>\n",
       "      <td>0</td>\n",
       "      <td>2</td>\n",
       "      <td>2</td>\n",
       "      <td>1</td>\n",
       "      <td>208500.0</td>\n",
       "    </tr>\n",
       "    <tr>\n",
       "      <th>1</th>\n",
       "      <td>1262.0</td>\n",
       "      <td>1262</td>\n",
       "      <td>460.0</td>\n",
       "      <td>0</td>\n",
       "      <td>3</td>\n",
       "      <td>3</td>\n",
       "      <td>1</td>\n",
       "      <td>181500.0</td>\n",
       "    </tr>\n",
       "    <tr>\n",
       "      <th>2</th>\n",
       "      <td>920.0</td>\n",
       "      <td>1786</td>\n",
       "      <td>608.0</td>\n",
       "      <td>0</td>\n",
       "      <td>2</td>\n",
       "      <td>2</td>\n",
       "      <td>1</td>\n",
       "      <td>223500.0</td>\n",
       "    </tr>\n",
       "    <tr>\n",
       "      <th>3</th>\n",
       "      <td>756.0</td>\n",
       "      <td>1717</td>\n",
       "      <td>642.0</td>\n",
       "      <td>0</td>\n",
       "      <td>3</td>\n",
       "      <td>2</td>\n",
       "      <td>1</td>\n",
       "      <td>140000.0</td>\n",
       "    </tr>\n",
       "    <tr>\n",
       "      <th>4</th>\n",
       "      <td>1145.0</td>\n",
       "      <td>2198</td>\n",
       "      <td>836.0</td>\n",
       "      <td>0</td>\n",
       "      <td>2</td>\n",
       "      <td>2</td>\n",
       "      <td>0</td>\n",
       "      <td>250000.0</td>\n",
       "    </tr>\n",
       "  </tbody>\n",
       "</table>\n",
       "</div>"
      ],
      "text/plain": [
       "   TotalBsmtSF  GrLivArea  GarageArea  BldgType  ExterQual  KitchenQual  \\\n",
       "0        856.0       1710       548.0         0          2            2   \n",
       "1       1262.0       1262       460.0         0          3            3   \n",
       "2        920.0       1786       608.0         0          2            2   \n",
       "3        756.0       1717       642.0         0          3            2   \n",
       "4       1145.0       2198       836.0         0          2            2   \n",
       "\n",
       "   Neighborhood  SalePrice  \n",
       "0             1   208500.0  \n",
       "1             1   181500.0  \n",
       "2             1   223500.0  \n",
       "3             1   140000.0  \n",
       "4             0   250000.0  "
      ]
     },
     "execution_count": 501,
     "metadata": {},
     "output_type": "execute_result"
    }
   ],
   "source": [
    "# Train & Test data\n"
   ]
  },
  {
   "cell_type": "code",
   "execution_count": 538,
   "metadata": {},
   "outputs": [
    {
     "name": "stderr",
     "output_type": "stream",
     "text": [
      "C:\\Users\\alexliuyi\\Anaconda3\\envs\\python3.7\\lib\\site-packages\\sklearn\\preprocessing\\_encoders.py:363: FutureWarning: The handling of integer data will change in version 0.22. Currently, the categories are determined based on the range [0, max(values)], while in the future they will be determined based on the unique values.\n",
      "If you want the future behaviour and silence this warning, you can specify \"categories='auto'\".\n",
      "In case you used a LabelEncoder before this OneHotEncoder to convert the categories to integers, then you can now use the OneHotEncoder directly.\n",
      "  warnings.warn(msg, FutureWarning)\n"
     ]
    }
   ],
   "source": [
    "# Onehot Encoding\n",
    "data_feature_array = data_raw[label_var].values\n",
    "\n",
    "data_list = data_feature_array.tolist()\n",
    "\n",
    "onehot = OneHotEncoder()\n",
    "\n",
    "onehot.fit(data_list)\n",
    "\n",
    "data_onehot = onehot.transform(data_list).toarray()"
   ]
  },
  {
   "cell_type": "code",
   "execution_count": 539,
   "metadata": {},
   "outputs": [],
   "source": [
    "final_var = ['TotalBsmtSF','GrLivArea','GarageArea']\n",
    "\n",
    "data_final = np.hstack((data_raw[final_var], data_onehot))"
   ]
  },
  {
   "cell_type": "code",
   "execution_count": 540,
   "metadata": {},
   "outputs": [
    {
     "name": "stdout",
     "output_type": "stream",
     "text": [
      "(1460, 18) (1459, 18) (1460,)\n"
     ]
    }
   ],
   "source": [
    "X_train = data_final[0:1460,:]\n",
    "X_test  = data_final[1460:,:]\n",
    "\n",
    "Y_train = data_raw.SalePrice.values[0:1460]\n",
    "\n",
    "print(X_train.shape, X_test.shape, Y_train.shape)"
   ]
  },
  {
   "cell_type": "code",
   "execution_count": 541,
   "metadata": {},
   "outputs": [],
   "source": [
    "X_model, X_validate, y_model, y_validate = train_test_split(X_train, Y_train, test_size=1/4, random_state=0)"
   ]
  },
  {
   "cell_type": "code",
   "execution_count": 542,
   "metadata": {},
   "outputs": [],
   "source": [
    "scaler = MinMaxScaler()\n",
    "\n",
    "X_model_scaled = scaler.fit_transform(X_model)\n",
    "X_validate_scaled = scaler.transform(X_validate)\n",
    "X_test_scaled = scaler.transform(X_test)\n"
   ]
  },
  {
   "cell_type": "code",
   "execution_count": 551,
   "metadata": {},
   "outputs": [
    {
     "name": "stdout",
     "output_type": "stream",
     "text": [
      "0.038998931660799166\n"
     ]
    }
   ],
   "source": [
    "from sklearn.linear_model import LinearRegression, LassoCV, RidgeCV\n",
    "from sklearn.model_selection import GridSearchCV\n",
    "from sklearn.metrics import mean_squared_log_error\n",
    "\n",
    "LR = LinearRegression()\n",
    "LR.fit(X_model_scaled, y_model)\n",
    "MSE = mean_squared_log_error(LR.predict(X_validate_scaled), y_validate)\n",
    "print(MSE)\n"
   ]
  },
  {
   "cell_type": "code",
   "execution_count": 552,
   "metadata": {},
   "outputs": [
    {
     "name": "stdout",
     "output_type": "stream",
     "text": [
      "0.037035085721662135\n"
     ]
    }
   ],
   "source": [
    "Lasso = LassoCV(cv=5)\n",
    "Lasso.fit(X_model_scaled, y_model)\n",
    "MSE = mean_squared_log_error(Lasso.predict(X_validate_scaled), y_validate)\n",
    "print(MSE)"
   ]
  },
  {
   "cell_type": "code",
   "execution_count": 553,
   "metadata": {},
   "outputs": [
    {
     "name": "stdout",
     "output_type": "stream",
     "text": [
      "0.03872335723452591\n"
     ]
    }
   ],
   "source": [
    "Ridge = RidgeCV(cv=5)\n",
    "Ridge.fit(X_model_scaled, y_model)\n",
    "MSE = mean_squared_log_error(Ridge.predict(X_validate_scaled), y_validate)\n",
    "print(MSE)"
   ]
  },
  {
   "cell_type": "code",
   "execution_count": 563,
   "metadata": {},
   "outputs": [],
   "source": [
    "predicted = Lasso.predict(X_test_scaled)"
   ]
  },
  {
   "cell_type": "code",
   "execution_count": 564,
   "metadata": {},
   "outputs": [],
   "source": [
    "result = pd.DataFrame(predicted)"
   ]
  },
  {
   "cell_type": "code",
   "execution_count": 566,
   "metadata": {},
   "outputs": [],
   "source": [
    "result.to_csv('C:\\\\Users\\\\alexliuyi\\\\Documents\\\\Kaggle\\\\Home Price\\\\result.csv')"
   ]
  },
  {
   "cell_type": "code",
   "execution_count": 562,
   "metadata": {},
   "outputs": [
    {
     "data": {
      "text/plain": [
       "array([3.85075478e+08, 5.17631223e+08, 5.58961423e+08, ...,\n",
       "       4.97689082e+08, 3.54414899e+08, 6.73569877e+08])"
      ]
     },
     "execution_count": 562,
     "metadata": {},
     "output_type": "execute_result"
    }
   ],
   "source": [
    "LR.predict(X_test)"
   ]
  },
  {
   "cell_type": "code",
   "execution_count": null,
   "metadata": {},
   "outputs": [],
   "source": []
  }
 ],
 "metadata": {
  "kernelspec": {
   "display_name": "Python 3",
   "language": "python",
   "name": "python3"
  },
  "language_info": {
   "codemirror_mode": {
    "name": "ipython",
    "version": 3
   },
   "file_extension": ".py",
   "mimetype": "text/x-python",
   "name": "python",
   "nbconvert_exporter": "python",
   "pygments_lexer": "ipython3",
   "version": "3.6.7"
  }
 },
 "nbformat": 4,
 "nbformat_minor": 2
}
