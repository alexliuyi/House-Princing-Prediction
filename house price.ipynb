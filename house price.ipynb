{
 "cells": [
  {
   "cell_type": "markdown",
   "metadata": {},
   "source": [
    "# House Prices: Advanced Regression Techniques"
   ]
  },
  {
   "cell_type": "markdown",
   "metadata": {},
   "source": [
    "1. Hypothesis (Before looking the data)\n",
    "\n",
    "   Larger area, higher price\n",
    "   More Bedroom, higher price\n",
    "   More Bathroom, higher price\n",
    "   Higher School rate, higher price\n",
    "   Newer house, higher price\n",
    "   Lower store, higher price\n",
    "   House type (single family, townhouse, conde), price decrease\n",
    "   Sale type (loan, cash), price decrease\n",
    "   Others (Remodel, roof, safty)"
   ]
  },
  {
   "cell_type": "markdown",
   "metadata": {},
   "source": [
    "2. Look at the data"
   ]
  },
  {
   "cell_type": "code",
   "execution_count": 1,
   "metadata": {},
   "outputs": [],
   "source": [
    "# Import packages\n",
    "import numpy as np\n",
    "import pandas as pd\n",
    "import matplotlib.pyplot as plt\n",
    "import seaborn as sns\n",
    "from sklearn.preprocessing import Imputer\n",
    "from sklearn.preprocessing import LabelEncoder, OneHotEncoder, MinMaxScaler\n",
    "from sklearn.model_selection import train_test_split\n",
    "\n",
    "\n",
    "from scipy import stats\n",
    "from statsmodels.formula.api import ols\n",
    "from statsmodels.stats.anova import anova_lm\n",
    "from statsmodels.stats.multicomp import pairwise_tukeyhsd"
   ]
  },
  {
   "cell_type": "code",
   "execution_count": 3,
   "metadata": {},
   "outputs": [
    {
     "name": "stdout",
     "output_type": "stream",
     "text": [
      "Shape of Train (1460, 81)\n",
      "Shape of Test (1459, 80)\n",
      "Shape of Data (2919, 81)\n"
     ]
    }
   ],
   "source": [
    "# Reading Data\n",
    "train = pd.read_csv('C:\\\\Users\\\\alexliuyi\\\\Documents\\\\Kaggle\\\\Home Price\\\\data\\\\train.csv')\n",
    "test  = pd.read_csv('C:\\\\Users\\\\alexliuyi\\\\Documents\\\\Kaggle\\\\Home Price\\\\data\\\\test.csv')\n",
    "data  = train.append(test, sort=False)\n",
    "\n",
    "print('Shape of Train', train.shape)\n",
    "print('Shape of Test',  test.shape)\n",
    "print('Shape of Data',  data.shape)"
   ]
  },
  {
   "cell_type": "code",
   "execution_count": 3,
   "metadata": {},
   "outputs": [],
   "source": [
    "numeric_cols = ['MSSubClass', 'OverallQual', 'OverallCond', 'BsmtFinSF1',\n",
    "               'BsmtFullBath', 'FullBath', 'BedroomAbvGr', 'KitchenAbvGr',\n",
    "               'TotRmsAbvGrd', 'Fireplaces', 'GarageCars', 'lotarea_new',\n",
    "               'grlivarea_new', '_1stflrsf_new', 'age_built', 'age_remode']\n",
    "\n",
    "# Categorical Variables\n",
    "cat_cols = ['MSZoning', 'Street', 'Alley', 'LotShape', 'LandContour', 'LotConfig',\n",
    "           'Condition1', 'BldgType', 'HouseStyle', 'RoofStyle',\n",
    "           'Exterior1st', 'Exterior2nd', 'ExterQual', 'Foundation', 'BsmtQual',\n",
    "           'BsmtCond', 'BsmtExposure', 'HeatingQC', 'CentralAir', 'Electrical',\n",
    "           'KitchenQual', 'FireplaceQu', 'GarageType', 'GarageQual', 'GarageCond',\n",
    "           'PavedDrive', 'Fence', 'SaleType', 'SaleCondition']\n",
    "\n",
    "y = ['y']\n",
    "\n",
    "feat_cols = numeric_cols + cat_cols + y"
   ]
  },
  {
   "cell_type": "code",
   "execution_count": 5,
   "metadata": {},
   "outputs": [],
   "source": [
    "cleaned = pd.read_csv('C:\\\\Users\\\\alexliuyi\\\\Documents\\\\Kaggle\\\\Home Price\\\\data\\\\cleaned.csv')\n",
    "cleaned = cleaned[feat_cols]\n",
    "\n",
    "raw_data = cleaned[pd.isna(cleaned.y)==False]\n",
    "valid = cleaned[pd.isna(cleaned.y)]"
   ]
  },
  {
   "cell_type": "code",
   "execution_count": 6,
   "metadata": {},
   "outputs": [],
   "source": [
    "train_data, test_data = train_test_split(raw_data, test_size=1/4, random_state=10)\n",
    "y_train = train_data['y'].values\n",
    "y_test = test_data['y'].values\n",
    "\n",
    "train_data = train_data.drop('y', axis=1)\n",
    "test_data  = test_data.drop('y', axis=1)"
   ]
  },
  {
   "cell_type": "code",
   "execution_count": 7,
   "metadata": {},
   "outputs": [
    {
     "data": {
      "text/html": [
       "<div>\n",
       "<style scoped>\n",
       "    .dataframe tbody tr th:only-of-type {\n",
       "        vertical-align: middle;\n",
       "    }\n",
       "\n",
       "    .dataframe tbody tr th {\n",
       "        vertical-align: top;\n",
       "    }\n",
       "\n",
       "    .dataframe thead th {\n",
       "        text-align: right;\n",
       "    }\n",
       "</style>\n",
       "<table border=\"1\" class=\"dataframe\">\n",
       "  <thead>\n",
       "    <tr style=\"text-align: right;\">\n",
       "      <th></th>\n",
       "      <th>MSSubClass</th>\n",
       "      <th>OverallQual</th>\n",
       "      <th>OverallCond</th>\n",
       "      <th>BsmtFinSF1</th>\n",
       "      <th>BsmtFullBath</th>\n",
       "      <th>FullBath</th>\n",
       "      <th>BedroomAbvGr</th>\n",
       "      <th>KitchenAbvGr</th>\n",
       "      <th>TotRmsAbvGrd</th>\n",
       "      <th>Fireplaces</th>\n",
       "      <th>...</th>\n",
       "      <th>Electrical</th>\n",
       "      <th>KitchenQual</th>\n",
       "      <th>FireplaceQu</th>\n",
       "      <th>GarageType</th>\n",
       "      <th>GarageQual</th>\n",
       "      <th>GarageCond</th>\n",
       "      <th>PavedDrive</th>\n",
       "      <th>Fence</th>\n",
       "      <th>SaleType</th>\n",
       "      <th>SaleCondition</th>\n",
       "    </tr>\n",
       "  </thead>\n",
       "  <tbody>\n",
       "    <tr>\n",
       "      <th>567</th>\n",
       "      <td>20</td>\n",
       "      <td>7</td>\n",
       "      <td>5</td>\n",
       "      <td>2</td>\n",
       "      <td>0</td>\n",
       "      <td>2</td>\n",
       "      <td>3</td>\n",
       "      <td>1</td>\n",
       "      <td>7</td>\n",
       "      <td>0</td>\n",
       "      <td>...</td>\n",
       "      <td>type1</td>\n",
       "      <td>Gd</td>\n",
       "      <td>NaN</td>\n",
       "      <td>Attchd</td>\n",
       "      <td>TA</td>\n",
       "      <td>TA</td>\n",
       "      <td>Y</td>\n",
       "      <td>NaN</td>\n",
       "      <td>old</td>\n",
       "      <td>Normal</td>\n",
       "    </tr>\n",
       "    <tr>\n",
       "      <th>1416</th>\n",
       "      <td>190</td>\n",
       "      <td>4</td>\n",
       "      <td>6</td>\n",
       "      <td>0</td>\n",
       "      <td>0</td>\n",
       "      <td>2</td>\n",
       "      <td>4</td>\n",
       "      <td>2</td>\n",
       "      <td>11</td>\n",
       "      <td>0</td>\n",
       "      <td>...</td>\n",
       "      <td>type1</td>\n",
       "      <td>TA</td>\n",
       "      <td>NaN</td>\n",
       "      <td>type1</td>\n",
       "      <td>TA</td>\n",
       "      <td>TA</td>\n",
       "      <td>N</td>\n",
       "      <td>NaN</td>\n",
       "      <td>old</td>\n",
       "      <td>Normal</td>\n",
       "    </tr>\n",
       "    <tr>\n",
       "      <th>1372</th>\n",
       "      <td>60</td>\n",
       "      <td>7</td>\n",
       "      <td>6</td>\n",
       "      <td>975</td>\n",
       "      <td>1</td>\n",
       "      <td>2</td>\n",
       "      <td>3</td>\n",
       "      <td>1</td>\n",
       "      <td>8</td>\n",
       "      <td>1</td>\n",
       "      <td>...</td>\n",
       "      <td>type1</td>\n",
       "      <td>Gd</td>\n",
       "      <td>TA</td>\n",
       "      <td>type1</td>\n",
       "      <td>TA</td>\n",
       "      <td>TA</td>\n",
       "      <td>Y</td>\n",
       "      <td>NaN</td>\n",
       "      <td>old</td>\n",
       "      <td>Normal</td>\n",
       "    </tr>\n",
       "    <tr>\n",
       "      <th>172</th>\n",
       "      <td>160</td>\n",
       "      <td>7</td>\n",
       "      <td>7</td>\n",
       "      <td>495</td>\n",
       "      <td>1</td>\n",
       "      <td>2</td>\n",
       "      <td>2</td>\n",
       "      <td>1</td>\n",
       "      <td>5</td>\n",
       "      <td>1</td>\n",
       "      <td>...</td>\n",
       "      <td>type1</td>\n",
       "      <td>Gd</td>\n",
       "      <td>TA</td>\n",
       "      <td>Attchd</td>\n",
       "      <td>Gd</td>\n",
       "      <td>TA</td>\n",
       "      <td>Y</td>\n",
       "      <td>NaN</td>\n",
       "      <td>old</td>\n",
       "      <td>Normal</td>\n",
       "    </tr>\n",
       "    <tr>\n",
       "      <th>810</th>\n",
       "      <td>20</td>\n",
       "      <td>6</td>\n",
       "      <td>6</td>\n",
       "      <td>663</td>\n",
       "      <td>1</td>\n",
       "      <td>1</td>\n",
       "      <td>3</td>\n",
       "      <td>1</td>\n",
       "      <td>5</td>\n",
       "      <td>1</td>\n",
       "      <td>...</td>\n",
       "      <td>type1</td>\n",
       "      <td>Gd</td>\n",
       "      <td>Fa</td>\n",
       "      <td>Attchd</td>\n",
       "      <td>TA</td>\n",
       "      <td>TA</td>\n",
       "      <td>Y</td>\n",
       "      <td>GdPrv</td>\n",
       "      <td>old</td>\n",
       "      <td>Normal</td>\n",
       "    </tr>\n",
       "  </tbody>\n",
       "</table>\n",
       "<p>5 rows × 45 columns</p>\n",
       "</div>"
      ],
      "text/plain": [
       "      MSSubClass  OverallQual  OverallCond  BsmtFinSF1  BsmtFullBath  \\\n",
       "567           20            7            5           2             0   \n",
       "1416         190            4            6           0             0   \n",
       "1372          60            7            6         975             1   \n",
       "172          160            7            7         495             1   \n",
       "810           20            6            6         663             1   \n",
       "\n",
       "      FullBath  BedroomAbvGr  KitchenAbvGr  TotRmsAbvGrd  Fireplaces  \\\n",
       "567          2             3             1             7           0   \n",
       "1416         2             4             2            11           0   \n",
       "1372         2             3             1             8           1   \n",
       "172          2             2             1             5           1   \n",
       "810          1             3             1             5           1   \n",
       "\n",
       "          ...       Electrical  KitchenQual  FireplaceQu  GarageType  \\\n",
       "567       ...            type1           Gd          NaN      Attchd   \n",
       "1416      ...            type1           TA          NaN       type1   \n",
       "1372      ...            type1           Gd           TA       type1   \n",
       "172       ...            type1           Gd           TA      Attchd   \n",
       "810       ...            type1           Gd           Fa      Attchd   \n",
       "\n",
       "      GarageQual  GarageCond PavedDrive  Fence SaleType SaleCondition  \n",
       "567           TA          TA          Y    NaN      old        Normal  \n",
       "1416          TA          TA          N    NaN      old        Normal  \n",
       "1372          TA          TA          Y    NaN      old        Normal  \n",
       "172           Gd          TA          Y    NaN      old        Normal  \n",
       "810           TA          TA          Y  GdPrv      old        Normal  \n",
       "\n",
       "[5 rows x 45 columns]"
      ]
     },
     "execution_count": 7,
     "metadata": {},
     "output_type": "execute_result"
    }
   ],
   "source": [
    "train_data.head(5)"
   ]
  },
  {
   "cell_type": "code",
   "execution_count": 6,
   "metadata": {},
   "outputs": [
    {
     "name": "stdout",
     "output_type": "stream",
     "text": [
      "Number of Numerical Variables:    37 Index(['Id', 'MSSubClass', 'LotFrontage', 'LotArea', 'OverallQual',\n",
      "       'OverallCond', 'YearBuilt', 'YearRemodAdd', 'MasVnrArea', 'BsmtFinSF1',\n",
      "       'BsmtFinSF2', 'BsmtUnfSF', 'TotalBsmtSF', '1stFlrSF', '2ndFlrSF',\n",
      "       'LowQualFinSF', 'GrLivArea', 'BsmtFullBath', 'BsmtHalfBath', 'FullBath',\n",
      "       'HalfBath', 'BedroomAbvGr', 'KitchenAbvGr', 'TotRmsAbvGrd',\n",
      "       'Fireplaces', 'GarageYrBlt', 'GarageCars', 'GarageArea', 'WoodDeckSF',\n",
      "       'OpenPorchSF', 'EnclosedPorch', '3SsnPorch', 'ScreenPorch', 'PoolArea',\n",
      "       'MiscVal', 'MoSold', 'YrSold'],\n",
      "      dtype='object')\n",
      "Number of Categorical Variables:  43 Index(['MSZoning', 'Street', 'Alley', 'LotShape', 'LandContour', 'Utilities',\n",
      "       'LotConfig', 'LandSlope', 'Neighborhood', 'Condition1', 'Condition2',\n",
      "       'BldgType', 'HouseStyle', 'RoofStyle', 'RoofMatl', 'Exterior1st',\n",
      "       'Exterior2nd', 'MasVnrType', 'ExterQual', 'ExterCond', 'Foundation',\n",
      "       'BsmtQual', 'BsmtCond', 'BsmtExposure', 'BsmtFinType1', 'BsmtFinType2',\n",
      "       'Heating', 'HeatingQC', 'CentralAir', 'Electrical', 'KitchenQual',\n",
      "       'Functional', 'FireplaceQu', 'GarageType', 'GarageFinish', 'GarageQual',\n",
      "       'GarageCond', 'PavedDrive', 'PoolQC', 'Fence', 'MiscFeature',\n",
      "       'SaleType', 'SaleCondition'],\n",
      "      dtype='object')\n"
     ]
    }
   ],
   "source": [
    "# Define Numerical and Categorical Variable, as well as Dependent Variable\n",
    "number_var = data.dtypes.index[data.dtypes.values != 'object']\n",
    "cate_var =   data.dtypes.index[data.dtypes.values == 'object']\n",
    "\n",
    "y, number_var = number_var[-1], number_var[:-1]\n",
    "\n",
    "print('Number of Numerical Variables:   ', len(number_var), number_var)\n",
    "print('Number of Categorical Variables: ', len(cate_var), cate_var)"
   ]
  },
  {
   "cell_type": "code",
   "execution_count": 7,
   "metadata": {},
   "outputs": [
    {
     "name": "stdout",
     "output_type": "stream",
     "text": [
      "LotFrontage     16.65\n",
      "GarageYrBlt      5.45\n",
      "MasVnrArea       0.79\n",
      "BsmtHalfBath     0.07\n",
      "BsmtFullBath     0.07\n",
      "GarageArea       0.03\n",
      "GarageCars       0.03\n",
      "TotalBsmtSF      0.03\n",
      "BsmtUnfSF        0.03\n",
      "BsmtFinSF2       0.03\n",
      "BsmtFinSF1       0.03\n",
      "dtype: float64\n"
     ]
    }
   ],
   "source": [
    "# Check Missing Values\n",
    "# Numerical Variables\n",
    "num_missing = round(np.sum(data[number_var].isnull())/data.shape[0]*100,2)\n",
    "print(num_missing[num_missing>0].sort_values(ascending=False))"
   ]
  },
  {
   "cell_type": "code",
   "execution_count": 73,
   "metadata": {},
   "outputs": [
    {
     "name": "stdout",
     "output_type": "stream",
     "text": [
      "(2919, 35)\n",
      "(2893, 35)\n"
     ]
    },
    {
     "name": "stderr",
     "output_type": "stream",
     "text": [
      "C:\\Users\\alexliuyi\\Anaconda3\\envs\\python3.7\\lib\\site-packages\\ipykernel_launcher.py:4: SettingWithCopyWarning: \n",
      "A value is trying to be set on a copy of a slice from a DataFrame\n",
      "\n",
      "See the caveats in the documentation: http://pandas.pydata.org/pandas-docs/stable/indexing.html#indexing-view-versus-copy\n",
      "  after removing the cwd from sys.path.\n"
     ]
    }
   ],
   "source": [
    "df = data[num_missing.index[num_missing.values <5]]\n",
    "\n",
    "print(df.shape)\n",
    "df.dropna(how='any',axis=0, inplace=True)\n",
    "\n",
    "df.shape\n",
    "print(df.shape)\n"
   ]
  },
  {
   "cell_type": "code",
   "execution_count": 10,
   "metadata": {},
   "outputs": [
    {
     "data": {
      "text/plain": [
       "<matplotlib.collections.PathCollection at 0x27c6ebcd3c8>"
      ]
     },
     "execution_count": 10,
     "metadata": {},
     "output_type": "execute_result"
    },
    {
     "data": {
      "image/png": "[encoded data removed]",
      "text/plain": [
       "<Figure size 432x288 with 1 Axes>"
      ]
     },
     "metadata": {
      "needs_background": "light"
     },
     "output_type": "display_data"
    }
   ],
   "source": [
    "# Plot Scatter for LotFrontage\n",
    "plt.scatter(data['LotFrontage'],data['SalePrice'])"
   ]
  },
  {
   "cell_type": "code",
   "execution_count": 12,
   "metadata": {},
   "outputs": [
    {
     "data": {
      "text/html": [
       "<div>\n",
       "<style scoped>\n",
       "    .dataframe tbody tr th:only-of-type {\n",
       "        vertical-align: middle;\n",
       "    }\n",
       "\n",
       "    .dataframe tbody tr th {\n",
       "        vertical-align: top;\n",
       "    }\n",
       "\n",
       "    .dataframe thead th {\n",
       "        text-align: right;\n",
       "    }\n",
       "</style>\n",
       "<table border=\"1\" class=\"dataframe\">\n",
       "  <thead>\n",
       "    <tr style=\"text-align: right;\">\n",
       "      <th></th>\n",
       "      <th>MSSubClass</th>\n",
       "      <th>LotFrontage</th>\n",
       "      <th>LotArea</th>\n",
       "      <th>OverallQual</th>\n",
       "      <th>OverallCond</th>\n",
       "      <th>YearBuilt</th>\n",
       "      <th>YearRemodAdd</th>\n",
       "      <th>MasVnrArea</th>\n",
       "      <th>BsmtFinSF1</th>\n",
       "    </tr>\n",
       "  </thead>\n",
       "  <tbody>\n",
       "    <tr>\n",
       "      <th>count</th>\n",
       "      <td>2919.000000</td>\n",
       "      <td>2433.000000</td>\n",
       "      <td>2919.000000</td>\n",
       "      <td>2919.000000</td>\n",
       "      <td>2919.000000</td>\n",
       "      <td>2919.000000</td>\n",
       "      <td>2919.000000</td>\n",
       "      <td>2896.000000</td>\n",
       "      <td>2918.000000</td>\n",
       "    </tr>\n",
       "    <tr>\n",
       "      <th>mean</th>\n",
       "      <td>57.137718</td>\n",
       "      <td>69.305795</td>\n",
       "      <td>10168.114080</td>\n",
       "      <td>6.089072</td>\n",
       "      <td>5.564577</td>\n",
       "      <td>1971.312778</td>\n",
       "      <td>1984.264474</td>\n",
       "      <td>102.201312</td>\n",
       "      <td>441.423235</td>\n",
       "    </tr>\n",
       "    <tr>\n",
       "      <th>std</th>\n",
       "      <td>42.517628</td>\n",
       "      <td>23.344905</td>\n",
       "      <td>7886.996359</td>\n",
       "      <td>1.409947</td>\n",
       "      <td>1.113131</td>\n",
       "      <td>30.291442</td>\n",
       "      <td>20.894344</td>\n",
       "      <td>179.334253</td>\n",
       "      <td>455.610826</td>\n",
       "    </tr>\n",
       "    <tr>\n",
       "      <th>min</th>\n",
       "      <td>20.000000</td>\n",
       "      <td>21.000000</td>\n",
       "      <td>1300.000000</td>\n",
       "      <td>1.000000</td>\n",
       "      <td>1.000000</td>\n",
       "      <td>1872.000000</td>\n",
       "      <td>1950.000000</td>\n",
       "      <td>0.000000</td>\n",
       "      <td>0.000000</td>\n",
       "    </tr>\n",
       "    <tr>\n",
       "      <th>25%</th>\n",
       "      <td>20.000000</td>\n",
       "      <td>59.000000</td>\n",
       "      <td>7478.000000</td>\n",
       "      <td>5.000000</td>\n",
       "      <td>5.000000</td>\n",
       "      <td>1953.500000</td>\n",
       "      <td>1965.000000</td>\n",
       "      <td>0.000000</td>\n",
       "      <td>0.000000</td>\n",
       "    </tr>\n",
       "    <tr>\n",
       "      <th>50%</th>\n",
       "      <td>50.000000</td>\n",
       "      <td>68.000000</td>\n",
       "      <td>9453.000000</td>\n",
       "      <td>6.000000</td>\n",
       "      <td>5.000000</td>\n",
       "      <td>1973.000000</td>\n",
       "      <td>1993.000000</td>\n",
       "      <td>0.000000</td>\n",
       "      <td>368.500000</td>\n",
       "    </tr>\n",
       "    <tr>\n",
       "      <th>75%</th>\n",
       "      <td>70.000000</td>\n",
       "      <td>80.000000</td>\n",
       "      <td>11570.000000</td>\n",
       "      <td>7.000000</td>\n",
       "      <td>6.000000</td>\n",
       "      <td>2001.000000</td>\n",
       "      <td>2004.000000</td>\n",
       "      <td>164.000000</td>\n",
       "      <td>733.000000</td>\n",
       "    </tr>\n",
       "    <tr>\n",
       "      <th>max</th>\n",
       "      <td>190.000000</td>\n",
       "      <td>313.000000</td>\n",
       "      <td>215245.000000</td>\n",
       "      <td>10.000000</td>\n",
       "      <td>9.000000</td>\n",
       "      <td>2010.000000</td>\n",
       "      <td>2010.000000</td>\n",
       "      <td>1600.000000</td>\n",
       "      <td>5644.000000</td>\n",
       "    </tr>\n",
       "  </tbody>\n",
       "</table>\n",
       "</div>"
      ],
      "text/plain": [
       "        MSSubClass  LotFrontage        LotArea  OverallQual  OverallCond  \\\n",
       "count  2919.000000  2433.000000    2919.000000  2919.000000  2919.000000   \n",
       "mean     57.137718    69.305795   10168.114080     6.089072     5.564577   \n",
       "std      42.517628    23.344905    7886.996359     1.409947     1.113131   \n",
       "min      20.000000    21.000000    1300.000000     1.000000     1.000000   \n",
       "25%      20.000000    59.000000    7478.000000     5.000000     5.000000   \n",
       "50%      50.000000    68.000000    9453.000000     6.000000     5.000000   \n",
       "75%      70.000000    80.000000   11570.000000     7.000000     6.000000   \n",
       "max     190.000000   313.000000  215245.000000    10.000000     9.000000   \n",
       "\n",
       "         YearBuilt  YearRemodAdd   MasVnrArea   BsmtFinSF1  \n",
       "count  2919.000000   2919.000000  2896.000000  2918.000000  \n",
       "mean   1971.312778   1984.264474   102.201312   441.423235  \n",
       "std      30.291442     20.894344   179.334253   455.610826  \n",
       "min    1872.000000   1950.000000     0.000000     0.000000  \n",
       "25%    1953.500000   1965.000000     0.000000     0.000000  \n",
       "50%    1973.000000   1993.000000     0.000000   368.500000  \n",
       "75%    2001.000000   2004.000000   164.000000   733.000000  \n",
       "max    2010.000000   2010.000000  1600.000000  5644.000000  "
      ]
     },
     "execution_count": 12,
     "metadata": {},
     "output_type": "execute_result"
    }
   ],
   "source": [
    "# Descriptve for Numberical Variables\n",
    "data[number_var[1:10]].describe()"
   ]
  },
  {
   "cell_type": "code",
   "execution_count": 13,
   "metadata": {},
   "outputs": [
    {
     "data": {
      "text/html": [
       "<div>\n",
       "<style scoped>\n",
       "    .dataframe tbody tr th:only-of-type {\n",
       "        vertical-align: middle;\n",
       "    }\n",
       "\n",
       "    .dataframe tbody tr th {\n",
       "        vertical-align: top;\n",
       "    }\n",
       "\n",
       "    .dataframe thead th {\n",
       "        text-align: right;\n",
       "    }\n",
       "</style>\n",
       "<table border=\"1\" class=\"dataframe\">\n",
       "  <thead>\n",
       "    <tr style=\"text-align: right;\">\n",
       "      <th></th>\n",
       "      <th>BsmtFinSF2</th>\n",
       "      <th>BsmtUnfSF</th>\n",
       "      <th>TotalBsmtSF</th>\n",
       "      <th>1stFlrSF</th>\n",
       "      <th>2ndFlrSF</th>\n",
       "      <th>LowQualFinSF</th>\n",
       "      <th>GrLivArea</th>\n",
       "      <th>BsmtFullBath</th>\n",
       "      <th>BsmtHalfBath</th>\n",
       "      <th>FullBath</th>\n",
       "    </tr>\n",
       "  </thead>\n",
       "  <tbody>\n",
       "    <tr>\n",
       "      <th>count</th>\n",
       "      <td>2918.000000</td>\n",
       "      <td>2918.000000</td>\n",
       "      <td>2918.000000</td>\n",
       "      <td>2919.000000</td>\n",
       "      <td>2919.000000</td>\n",
       "      <td>2919.000000</td>\n",
       "      <td>2919.000000</td>\n",
       "      <td>2917.000000</td>\n",
       "      <td>2917.000000</td>\n",
       "      <td>2919.000000</td>\n",
       "    </tr>\n",
       "    <tr>\n",
       "      <th>mean</th>\n",
       "      <td>49.582248</td>\n",
       "      <td>560.772104</td>\n",
       "      <td>1051.777587</td>\n",
       "      <td>1159.581706</td>\n",
       "      <td>336.483727</td>\n",
       "      <td>4.694416</td>\n",
       "      <td>1500.759849</td>\n",
       "      <td>0.429894</td>\n",
       "      <td>0.061364</td>\n",
       "      <td>1.568003</td>\n",
       "    </tr>\n",
       "    <tr>\n",
       "      <th>std</th>\n",
       "      <td>169.205611</td>\n",
       "      <td>439.543659</td>\n",
       "      <td>440.766258</td>\n",
       "      <td>392.362079</td>\n",
       "      <td>428.701456</td>\n",
       "      <td>46.396825</td>\n",
       "      <td>506.051045</td>\n",
       "      <td>0.524736</td>\n",
       "      <td>0.245687</td>\n",
       "      <td>0.552969</td>\n",
       "    </tr>\n",
       "    <tr>\n",
       "      <th>min</th>\n",
       "      <td>0.000000</td>\n",
       "      <td>0.000000</td>\n",
       "      <td>0.000000</td>\n",
       "      <td>334.000000</td>\n",
       "      <td>0.000000</td>\n",
       "      <td>0.000000</td>\n",
       "      <td>334.000000</td>\n",
       "      <td>0.000000</td>\n",
       "      <td>0.000000</td>\n",
       "      <td>0.000000</td>\n",
       "    </tr>\n",
       "    <tr>\n",
       "      <th>25%</th>\n",
       "      <td>0.000000</td>\n",
       "      <td>220.000000</td>\n",
       "      <td>793.000000</td>\n",
       "      <td>876.000000</td>\n",
       "      <td>0.000000</td>\n",
       "      <td>0.000000</td>\n",
       "      <td>1126.000000</td>\n",
       "      <td>0.000000</td>\n",
       "      <td>0.000000</td>\n",
       "      <td>1.000000</td>\n",
       "    </tr>\n",
       "    <tr>\n",
       "      <th>50%</th>\n",
       "      <td>0.000000</td>\n",
       "      <td>467.000000</td>\n",
       "      <td>989.500000</td>\n",
       "      <td>1082.000000</td>\n",
       "      <td>0.000000</td>\n",
       "      <td>0.000000</td>\n",
       "      <td>1444.000000</td>\n",
       "      <td>0.000000</td>\n",
       "      <td>0.000000</td>\n",
       "      <td>2.000000</td>\n",
       "    </tr>\n",
       "    <tr>\n",
       "      <th>75%</th>\n",
       "      <td>0.000000</td>\n",
       "      <td>805.500000</td>\n",
       "      <td>1302.000000</td>\n",
       "      <td>1387.500000</td>\n",
       "      <td>704.000000</td>\n",
       "      <td>0.000000</td>\n",
       "      <td>1743.500000</td>\n",
       "      <td>1.000000</td>\n",
       "      <td>0.000000</td>\n",
       "      <td>2.000000</td>\n",
       "    </tr>\n",
       "    <tr>\n",
       "      <th>max</th>\n",
       "      <td>1526.000000</td>\n",
       "      <td>2336.000000</td>\n",
       "      <td>6110.000000</td>\n",
       "      <td>5095.000000</td>\n",
       "      <td>2065.000000</td>\n",
       "      <td>1064.000000</td>\n",
       "      <td>5642.000000</td>\n",
       "      <td>3.000000</td>\n",
       "      <td>2.000000</td>\n",
       "      <td>4.000000</td>\n",
       "    </tr>\n",
       "  </tbody>\n",
       "</table>\n",
       "</div>"
      ],
      "text/plain": [
       "        BsmtFinSF2    BsmtUnfSF  TotalBsmtSF     1stFlrSF     2ndFlrSF  \\\n",
       "count  2918.000000  2918.000000  2918.000000  2919.000000  2919.000000   \n",
       "mean     49.582248   560.772104  1051.777587  1159.581706   336.483727   \n",
       "std     169.205611   439.543659   440.766258   392.362079   428.701456   \n",
       "min       0.000000     0.000000     0.000000   334.000000     0.000000   \n",
       "25%       0.000000   220.000000   793.000000   876.000000     0.000000   \n",
       "50%       0.000000   467.000000   989.500000  1082.000000     0.000000   \n",
       "75%       0.000000   805.500000  1302.000000  1387.500000   704.000000   \n",
       "max    1526.000000  2336.000000  6110.000000  5095.000000  2065.000000   \n",
       "\n",
       "       LowQualFinSF    GrLivArea  BsmtFullBath  BsmtHalfBath     FullBath  \n",
       "count   2919.000000  2919.000000   2917.000000   2917.000000  2919.000000  \n",
       "mean       4.694416  1500.759849      0.429894      0.061364     1.568003  \n",
       "std       46.396825   506.051045      0.524736      0.245687     0.552969  \n",
       "min        0.000000   334.000000      0.000000      0.000000     0.000000  \n",
       "25%        0.000000  1126.000000      0.000000      0.000000     1.000000  \n",
       "50%        0.000000  1444.000000      0.000000      0.000000     2.000000  \n",
       "75%        0.000000  1743.500000      1.000000      0.000000     2.000000  \n",
       "max     1064.000000  5642.000000      3.000000      2.000000     4.000000  "
      ]
     },
     "execution_count": 13,
     "metadata": {},
     "output_type": "execute_result"
    }
   ],
   "source": [
    "data[number_var[10:20]].describe()"
   ]
  },
  {
   "cell_type": "code",
   "execution_count": 14,
   "metadata": {},
   "outputs": [
    {
     "data": {
      "text/html": [
       "<div>\n",
       "<style scoped>\n",
       "    .dataframe tbody tr th:only-of-type {\n",
       "        vertical-align: middle;\n",
       "    }\n",
       "\n",
       "    .dataframe tbody tr th {\n",
       "        vertical-align: top;\n",
       "    }\n",
       "\n",
       "    .dataframe thead th {\n",
       "        text-align: right;\n",
       "    }\n",
       "</style>\n",
       "<table border=\"1\" class=\"dataframe\">\n",
       "  <thead>\n",
       "    <tr style=\"text-align: right;\">\n",
       "      <th></th>\n",
       "      <th>HalfBath</th>\n",
       "      <th>BedroomAbvGr</th>\n",
       "      <th>KitchenAbvGr</th>\n",
       "      <th>TotRmsAbvGrd</th>\n",
       "      <th>Fireplaces</th>\n",
       "      <th>GarageYrBlt</th>\n",
       "      <th>GarageCars</th>\n",
       "      <th>GarageArea</th>\n",
       "      <th>WoodDeckSF</th>\n",
       "      <th>OpenPorchSF</th>\n",
       "    </tr>\n",
       "  </thead>\n",
       "  <tbody>\n",
       "    <tr>\n",
       "      <th>count</th>\n",
       "      <td>2919.000000</td>\n",
       "      <td>2919.000000</td>\n",
       "      <td>2919.000000</td>\n",
       "      <td>2919.000000</td>\n",
       "      <td>2919.000000</td>\n",
       "      <td>2760.000000</td>\n",
       "      <td>2918.000000</td>\n",
       "      <td>2918.000000</td>\n",
       "      <td>2919.000000</td>\n",
       "      <td>2919.000000</td>\n",
       "    </tr>\n",
       "    <tr>\n",
       "      <th>mean</th>\n",
       "      <td>0.380267</td>\n",
       "      <td>2.860226</td>\n",
       "      <td>1.044536</td>\n",
       "      <td>6.451524</td>\n",
       "      <td>0.597122</td>\n",
       "      <td>1978.113406</td>\n",
       "      <td>1.766621</td>\n",
       "      <td>472.874572</td>\n",
       "      <td>93.709832</td>\n",
       "      <td>47.486811</td>\n",
       "    </tr>\n",
       "    <tr>\n",
       "      <th>std</th>\n",
       "      <td>0.502872</td>\n",
       "      <td>0.822693</td>\n",
       "      <td>0.214462</td>\n",
       "      <td>1.569379</td>\n",
       "      <td>0.646129</td>\n",
       "      <td>25.574285</td>\n",
       "      <td>0.761624</td>\n",
       "      <td>215.394815</td>\n",
       "      <td>126.526589</td>\n",
       "      <td>67.575493</td>\n",
       "    </tr>\n",
       "    <tr>\n",
       "      <th>min</th>\n",
       "      <td>0.000000</td>\n",
       "      <td>0.000000</td>\n",
       "      <td>0.000000</td>\n",
       "      <td>2.000000</td>\n",
       "      <td>0.000000</td>\n",
       "      <td>1895.000000</td>\n",
       "      <td>0.000000</td>\n",
       "      <td>0.000000</td>\n",
       "      <td>0.000000</td>\n",
       "      <td>0.000000</td>\n",
       "    </tr>\n",
       "    <tr>\n",
       "      <th>25%</th>\n",
       "      <td>0.000000</td>\n",
       "      <td>2.000000</td>\n",
       "      <td>1.000000</td>\n",
       "      <td>5.000000</td>\n",
       "      <td>0.000000</td>\n",
       "      <td>1960.000000</td>\n",
       "      <td>1.000000</td>\n",
       "      <td>320.000000</td>\n",
       "      <td>0.000000</td>\n",
       "      <td>0.000000</td>\n",
       "    </tr>\n",
       "    <tr>\n",
       "      <th>50%</th>\n",
       "      <td>0.000000</td>\n",
       "      <td>3.000000</td>\n",
       "      <td>1.000000</td>\n",
       "      <td>6.000000</td>\n",
       "      <td>1.000000</td>\n",
       "      <td>1979.000000</td>\n",
       "      <td>2.000000</td>\n",
       "      <td>480.000000</td>\n",
       "      <td>0.000000</td>\n",
       "      <td>26.000000</td>\n",
       "    </tr>\n",
       "    <tr>\n",
       "      <th>75%</th>\n",
       "      <td>1.000000</td>\n",
       "      <td>3.000000</td>\n",
       "      <td>1.000000</td>\n",
       "      <td>7.000000</td>\n",
       "      <td>1.000000</td>\n",
       "      <td>2002.000000</td>\n",
       "      <td>2.000000</td>\n",
       "      <td>576.000000</td>\n",
       "      <td>168.000000</td>\n",
       "      <td>70.000000</td>\n",
       "    </tr>\n",
       "    <tr>\n",
       "      <th>max</th>\n",
       "      <td>2.000000</td>\n",
       "      <td>8.000000</td>\n",
       "      <td>3.000000</td>\n",
       "      <td>15.000000</td>\n",
       "      <td>4.000000</td>\n",
       "      <td>2207.000000</td>\n",
       "      <td>5.000000</td>\n",
       "      <td>1488.000000</td>\n",
       "      <td>1424.000000</td>\n",
       "      <td>742.000000</td>\n",
       "    </tr>\n",
       "  </tbody>\n",
       "</table>\n",
       "</div>"
      ],
      "text/plain": [
       "          HalfBath  BedroomAbvGr  KitchenAbvGr  TotRmsAbvGrd   Fireplaces  \\\n",
       "count  2919.000000   2919.000000   2919.000000   2919.000000  2919.000000   \n",
       "mean      0.380267      2.860226      1.044536      6.451524     0.597122   \n",
       "std       0.502872      0.822693      0.214462      1.569379     0.646129   \n",
       "min       0.000000      0.000000      0.000000      2.000000     0.000000   \n",
       "25%       0.000000      2.000000      1.000000      5.000000     0.000000   \n",
       "50%       0.000000      3.000000      1.000000      6.000000     1.000000   \n",
       "75%       1.000000      3.000000      1.000000      7.000000     1.000000   \n",
       "max       2.000000      8.000000      3.000000     15.000000     4.000000   \n",
       "\n",
       "       GarageYrBlt   GarageCars   GarageArea   WoodDeckSF  OpenPorchSF  \n",
       "count  2760.000000  2918.000000  2918.000000  2919.000000  2919.000000  \n",
       "mean   1978.113406     1.766621   472.874572    93.709832    47.486811  \n",
       "std      25.574285     0.761624   215.394815   126.526589    67.575493  \n",
       "min    1895.000000     0.000000     0.000000     0.000000     0.000000  \n",
       "25%    1960.000000     1.000000   320.000000     0.000000     0.000000  \n",
       "50%    1979.000000     2.000000   480.000000     0.000000    26.000000  \n",
       "75%    2002.000000     2.000000   576.000000   168.000000    70.000000  \n",
       "max    2207.000000     5.000000  1488.000000  1424.000000   742.000000  "
      ]
     },
     "execution_count": 14,
     "metadata": {},
     "output_type": "execute_result"
    }
   ],
   "source": [
    "data[number_var[20:30]].describe()"
   ]
  },
  {
   "cell_type": "code",
   "execution_count": 15,
   "metadata": {},
   "outputs": [
    {
     "data": {
      "text/html": [
       "<div>\n",
       "<style scoped>\n",
       "    .dataframe tbody tr th:only-of-type {\n",
       "        vertical-align: middle;\n",
       "    }\n",
       "\n",
       "    .dataframe tbody tr th {\n",
       "        vertical-align: top;\n",
       "    }\n",
       "\n",
       "    .dataframe thead th {\n",
       "        text-align: right;\n",
       "    }\n",
       "</style>\n",
       "<table border=\"1\" class=\"dataframe\">\n",
       "  <thead>\n",
       "    <tr style=\"text-align: right;\">\n",
       "      <th></th>\n",
       "      <th>EnclosedPorch</th>\n",
       "      <th>3SsnPorch</th>\n",
       "      <th>ScreenPorch</th>\n",
       "      <th>PoolArea</th>\n",
       "      <th>MiscVal</th>\n",
       "      <th>MoSold</th>\n",
       "      <th>YrSold</th>\n",
       "    </tr>\n",
       "  </thead>\n",
       "  <tbody>\n",
       "    <tr>\n",
       "      <th>count</th>\n",
       "      <td>2919.000000</td>\n",
       "      <td>2919.000000</td>\n",
       "      <td>2919.000000</td>\n",
       "      <td>2919.000000</td>\n",
       "      <td>2919.000000</td>\n",
       "      <td>2919.000000</td>\n",
       "      <td>2919.000000</td>\n",
       "    </tr>\n",
       "    <tr>\n",
       "      <th>mean</th>\n",
       "      <td>23.098321</td>\n",
       "      <td>2.602261</td>\n",
       "      <td>16.062350</td>\n",
       "      <td>2.251799</td>\n",
       "      <td>50.825968</td>\n",
       "      <td>6.213087</td>\n",
       "      <td>2007.792737</td>\n",
       "    </tr>\n",
       "    <tr>\n",
       "      <th>std</th>\n",
       "      <td>64.244246</td>\n",
       "      <td>25.188169</td>\n",
       "      <td>56.184365</td>\n",
       "      <td>35.663946</td>\n",
       "      <td>567.402211</td>\n",
       "      <td>2.714762</td>\n",
       "      <td>1.314964</td>\n",
       "    </tr>\n",
       "    <tr>\n",
       "      <th>min</th>\n",
       "      <td>0.000000</td>\n",
       "      <td>0.000000</td>\n",
       "      <td>0.000000</td>\n",
       "      <td>0.000000</td>\n",
       "      <td>0.000000</td>\n",
       "      <td>1.000000</td>\n",
       "      <td>2006.000000</td>\n",
       "    </tr>\n",
       "    <tr>\n",
       "      <th>25%</th>\n",
       "      <td>0.000000</td>\n",
       "      <td>0.000000</td>\n",
       "      <td>0.000000</td>\n",
       "      <td>0.000000</td>\n",
       "      <td>0.000000</td>\n",
       "      <td>4.000000</td>\n",
       "      <td>2007.000000</td>\n",
       "    </tr>\n",
       "    <tr>\n",
       "      <th>50%</th>\n",
       "      <td>0.000000</td>\n",
       "      <td>0.000000</td>\n",
       "      <td>0.000000</td>\n",
       "      <td>0.000000</td>\n",
       "      <td>0.000000</td>\n",
       "      <td>6.000000</td>\n",
       "      <td>2008.000000</td>\n",
       "    </tr>\n",
       "    <tr>\n",
       "      <th>75%</th>\n",
       "      <td>0.000000</td>\n",
       "      <td>0.000000</td>\n",
       "      <td>0.000000</td>\n",
       "      <td>0.000000</td>\n",
       "      <td>0.000000</td>\n",
       "      <td>8.000000</td>\n",
       "      <td>2009.000000</td>\n",
       "    </tr>\n",
       "    <tr>\n",
       "      <th>max</th>\n",
       "      <td>1012.000000</td>\n",
       "      <td>508.000000</td>\n",
       "      <td>576.000000</td>\n",
       "      <td>800.000000</td>\n",
       "      <td>17000.000000</td>\n",
       "      <td>12.000000</td>\n",
       "      <td>2010.000000</td>\n",
       "    </tr>\n",
       "  </tbody>\n",
       "</table>\n",
       "</div>"
      ],
      "text/plain": [
       "       EnclosedPorch    3SsnPorch  ScreenPorch     PoolArea       MiscVal  \\\n",
       "count    2919.000000  2919.000000  2919.000000  2919.000000   2919.000000   \n",
       "mean       23.098321     2.602261    16.062350     2.251799     50.825968   \n",
       "std        64.244246    25.188169    56.184365    35.663946    567.402211   \n",
       "min         0.000000     0.000000     0.000000     0.000000      0.000000   \n",
       "25%         0.000000     0.000000     0.000000     0.000000      0.000000   \n",
       "50%         0.000000     0.000000     0.000000     0.000000      0.000000   \n",
       "75%         0.000000     0.000000     0.000000     0.000000      0.000000   \n",
       "max      1012.000000   508.000000   576.000000   800.000000  17000.000000   \n",
       "\n",
       "            MoSold       YrSold  \n",
       "count  2919.000000  2919.000000  \n",
       "mean      6.213087  2007.792737  \n",
       "std       2.714762     1.314964  \n",
       "min       1.000000  2006.000000  \n",
       "25%       4.000000  2007.000000  \n",
       "50%       6.000000  2008.000000  \n",
       "75%       8.000000  2009.000000  \n",
       "max      12.000000  2010.000000  "
      ]
     },
     "execution_count": 15,
     "metadata": {},
     "output_type": "execute_result"
    }
   ],
   "source": [
    "data[number_var[30:]].describe()"
   ]
  },
  {
   "cell_type": "code",
   "execution_count": 17,
   "metadata": {},
   "outputs": [
    {
     "data": {
      "text/plain": [
       "[<matplotlib.lines.Line2D at 0x27c6ef005c0>]"
      ]
     },
     "execution_count": 17,
     "metadata": {},
     "output_type": "execute_result"
    },
    {
     "data": {
      "image/png": "[encoded data removed]",
      "text/plain": [
       "<Figure size 432x288 with 1 Axes>"
      ]
     },
     "metadata": {
      "needs_background": "light"
     },
     "output_type": "display_data"
    }
   ],
   "source": [
    "%matplotlib inline\n",
    "plt.figure(1)\n",
    "plt.plot(data.groupby(['YearBuilt']).median()['SalePrice'], color='blue')\n",
    "plt.plot(data.groupby(['YearRemodAdd']).median()['SalePrice'], color='green')\n",
    "plt.plot(data.groupby(['GarageYrBlt']).median()['SalePrice'], color='red')\n",
    "plt.plot(data.groupby(['YrSold']).median()['SalePrice'], color='purple')"
   ]
  },
  {
   "cell_type": "markdown",
   "metadata": {},
   "source": [
    "From above plot, we will just use the YearBuilt variable"
   ]
  },
  {
   "cell_type": "code",
   "execution_count": 43,
   "metadata": {},
   "outputs": [
    {
     "data": {
      "text/plain": [
       "<matplotlib.axes._subplots.AxesSubplot at 0x27c6fe31160>"
      ]
     },
     "execution_count": 43,
     "metadata": {},
     "output_type": "execute_result"
    },
    {
     "data": {
      "image/png": "[encoded data removed]",
      "text/plain": [
       "<Figure size 1440x720 with 2 Axes>"
      ]
     },
     "metadata": {
      "needs_background": "light"
     },
     "output_type": "display_data"
    }
   ],
   "source": [
    "corr_var = ['LotArea','MasVnrArea','BsmtFinSF1','BsmtFinSF2','BsmtUnfSF',\n",
    "            'TotalBsmtSF','1stFlrSF','2ndFlrSF','LowQualFinSF','GrLivArea','OpenPorchSF',\n",
    "            'GarageArea','PoolArea',\n",
    "            'BsmtFullBath','BsmtHalfBath','FullBath','HalfBath','BedroomAbvGr','KitchenAbvGr','Fireplaces','GarageCars',\n",
    "            'SalePrice']\n",
    "data_corr = data[corr_var]\n",
    "\n",
    "corr = data_corr.corr()\n",
    "\n",
    "# Generate a mask for the upper triangle\n",
    "mask = np.zeros_like(corr, dtype=np.bool)\n",
    "mask[np.triu_indices_from(mask)] = True\n",
    "\n",
    "f, ax = plt.subplots(figsize=(20, 10))\n",
    "\n",
    "cmap = sns.diverging_palette(220, 50, as_cmap=True)\n",
    "\n",
    "sns.heatmap(corr, mask=mask, cmap=cmap)"
   ]
  },
  {
   "cell_type": "code",
   "execution_count": 50,
   "metadata": {
    "scrolled": true
   },
   "outputs": [
    {
     "data": {
      "text/plain": [
       "LotArea              NaN\n",
       "MasVnrArea           NaN\n",
       "BsmtFinSF1           NaN\n",
       "BsmtFinSF2           NaN\n",
       "BsmtUnfSF            NaN\n",
       "TotalBsmtSF     0.613581\n",
       "1stFlrSF        0.605852\n",
       "2ndFlrSF             NaN\n",
       "LowQualFinSF         NaN\n",
       "GrLivArea       0.708624\n",
       "OpenPorchSF          NaN\n",
       "GarageArea      0.623431\n",
       "PoolArea             NaN\n",
       "BsmtFullBath         NaN\n",
       "BsmtHalfBath         NaN\n",
       "FullBath        0.560664\n",
       "HalfBath             NaN\n",
       "BedroomAbvGr         NaN\n",
       "KitchenAbvGr         NaN\n",
       "Fireplaces           NaN\n",
       "GarageCars      0.640409\n",
       "SalePrice       1.000000\n",
       "Name: SalePrice, dtype: float64"
      ]
     },
     "execution_count": 50,
     "metadata": {},
     "output_type": "execute_result"
    }
   ],
   "source": [
    "corr[corr>=0.5].SalePrice "
   ]
  },
  {
   "cell_type": "markdown",
   "metadata": {},
   "source": [
    "Correlation greater than 0.5 with SalePrice:\n",
    "TotalBsmtSF, 1stFlrSF, GrLivArea, FullBath, GarageArea, GarageCars\n",
    "\n",
    "However, TotalBsmtSF & 1stFlrSF, GrLivArea & FullBath, GarageArea & GarageCars may have multicollinearity\n",
    "\n",
    "So just choose TotalBsmtSF, GrLivArea, GarageArea as final numerical predict variables."
   ]
  },
  {
   "cell_type": "code",
   "execution_count": 48,
   "metadata": {},
   "outputs": [
    {
     "data": {
      "text/plain": [
       "<matplotlib.axes._subplots.AxesSubplot at 0x27c6fa6e1d0>"
      ]
     },
     "execution_count": 48,
     "metadata": {},
     "output_type": "execute_result"
    },
    {
     "data": {
      "image/png": "[encoded data removed]",
      "text/plain": [
       "<Figure size 432x288 with 1 Axes>"
      ]
     },
     "metadata": {
      "needs_background": "light"
     },
     "output_type": "display_data"
    }
   ],
   "source": [
    "# Check Distribution\n",
    "boxplot_var = ['TotalBsmtSF','GrLivArea','GarageArea']\n",
    "data[boxplot_var].boxplot()"
   ]
  },
  {
   "cell_type": "code",
   "execution_count": null,
   "metadata": {},
   "outputs": [],
   "source": [
    "# Check Missing Values\n",
    "# Categorical Variables\n",
    "cat_missing = round(np.sum(data[cate_var].isnull())/data.shape[0]*100,2)\n",
    "print(cat_missing[cat_missing>0].sort_values(ascending=False))"
   ]
  },
  {
   "cell_type": "code",
   "execution_count": null,
   "metadata": {},
   "outputs": [],
   "source": [
    "# Categorical Variables\n",
    "for i in cate_var:\n",
    "    print(i, '\\n', pd.value_counts(data1[i]), '\\n')"
   ]
  },
  {
   "cell_type": "code",
   "execution_count": null,
   "metadata": {},
   "outputs": [],
   "source": [
    "f, ax = plt.subplots(figsize=(20, 8))\n",
    "sns.violinplot(data1.SaleCondition , data1.SalePrice)"
   ]
  },
  {
   "cell_type": "code",
   "execution_count": null,
   "metadata": {},
   "outputs": [],
   "source": [
    "# ANOVA test for difference\n",
    "data2 = data1[np.isnan(data1['SalePrice'])==False]\n",
    "\n",
    "model  = ols('SalePrice ~ MSZoning', data2).fit()\n",
    "anovat = anova_lm(model)\n",
    "print(anovat)"
   ]
  },
  {
   "cell_type": "code",
   "execution_count": null,
   "metadata": {},
   "outputs": [],
   "source": [
    "# If ANOVA test significant, move to pairwies tukey test\n",
    "print(pairwise_tukeyhsd(data2.SalePrice, data2.SaleCondition))"
   ]
  },
  {
   "cell_type": "markdown",
   "metadata": {},
   "source": [
    "Choose: BldgType, ExterQual, KitchenQual, Neighbor"
   ]
  },
  {
   "cell_type": "code",
   "execution_count": 27,
   "metadata": {},
   "outputs": [],
   "source": [
    "var_final = ['TotalBsmtSF','GrLivArea','GarageArea','BldgType','ExterQual','KitchenQual','Neighborhood','YearBuilt','SalePrice']"
   ]
  },
  {
   "cell_type": "code",
   "execution_count": 78,
   "metadata": {},
   "outputs": [],
   "source": [
    "# Delete Variables with Missing Values >= 20%\n",
    "data_raw = data[var_final]"
   ]
  },
  {
   "cell_type": "code",
   "execution_count": 20,
   "metadata": {},
   "outputs": [
    {
     "data": {
      "text/html": [
       "<div>\n",
       "<style scoped>\n",
       "    .dataframe tbody tr th:only-of-type {\n",
       "        vertical-align: middle;\n",
       "    }\n",
       "\n",
       "    .dataframe tbody tr th {\n",
       "        vertical-align: top;\n",
       "    }\n",
       "\n",
       "    .dataframe thead th {\n",
       "        text-align: right;\n",
       "    }\n",
       "</style>\n",
       "<table border=\"1\" class=\"dataframe\">\n",
       "  <thead>\n",
       "    <tr style=\"text-align: right;\">\n",
       "      <th></th>\n",
       "      <th>TotalBsmtSF</th>\n",
       "      <th>GrLivArea</th>\n",
       "      <th>GarageArea</th>\n",
       "      <th>BldgType</th>\n",
       "      <th>ExterQual</th>\n",
       "      <th>KitchenQual</th>\n",
       "      <th>Neighborhood</th>\n",
       "      <th>SalePrice</th>\n",
       "    </tr>\n",
       "  </thead>\n",
       "  <tbody>\n",
       "    <tr>\n",
       "      <th>0</th>\n",
       "      <td>856.0</td>\n",
       "      <td>1710</td>\n",
       "      <td>548.0</td>\n",
       "      <td>1Fam</td>\n",
       "      <td>Gd</td>\n",
       "      <td>Gd</td>\n",
       "      <td>CollgCr</td>\n",
       "      <td>208500.0</td>\n",
       "    </tr>\n",
       "    <tr>\n",
       "      <th>1</th>\n",
       "      <td>1262.0</td>\n",
       "      <td>1262</td>\n",
       "      <td>460.0</td>\n",
       "      <td>1Fam</td>\n",
       "      <td>TA</td>\n",
       "      <td>TA</td>\n",
       "      <td>Veenker</td>\n",
       "      <td>181500.0</td>\n",
       "    </tr>\n",
       "    <tr>\n",
       "      <th>2</th>\n",
       "      <td>920.0</td>\n",
       "      <td>1786</td>\n",
       "      <td>608.0</td>\n",
       "      <td>1Fam</td>\n",
       "      <td>Gd</td>\n",
       "      <td>Gd</td>\n",
       "      <td>CollgCr</td>\n",
       "      <td>223500.0</td>\n",
       "    </tr>\n",
       "    <tr>\n",
       "      <th>3</th>\n",
       "      <td>756.0</td>\n",
       "      <td>1717</td>\n",
       "      <td>642.0</td>\n",
       "      <td>1Fam</td>\n",
       "      <td>TA</td>\n",
       "      <td>Gd</td>\n",
       "      <td>Crawfor</td>\n",
       "      <td>140000.0</td>\n",
       "    </tr>\n",
       "    <tr>\n",
       "      <th>4</th>\n",
       "      <td>1145.0</td>\n",
       "      <td>2198</td>\n",
       "      <td>836.0</td>\n",
       "      <td>1Fam</td>\n",
       "      <td>Gd</td>\n",
       "      <td>Gd</td>\n",
       "      <td>NoRidge</td>\n",
       "      <td>250000.0</td>\n",
       "    </tr>\n",
       "  </tbody>\n",
       "</table>\n",
       "</div>"
      ],
      "text/plain": [
       "   TotalBsmtSF  GrLivArea  GarageArea BldgType ExterQual KitchenQual  \\\n",
       "0        856.0       1710       548.0     1Fam        Gd          Gd   \n",
       "1       1262.0       1262       460.0     1Fam        TA          TA   \n",
       "2        920.0       1786       608.0     1Fam        Gd          Gd   \n",
       "3        756.0       1717       642.0     1Fam        TA          Gd   \n",
       "4       1145.0       2198       836.0     1Fam        Gd          Gd   \n",
       "\n",
       "  Neighborhood  SalePrice  \n",
       "0      CollgCr   208500.0  \n",
       "1      Veenker   181500.0  \n",
       "2      CollgCr   223500.0  \n",
       "3      Crawfor   140000.0  \n",
       "4      NoRidge   250000.0  "
      ]
     },
     "execution_count": 20,
     "metadata": {},
     "output_type": "execute_result"
    }
   ],
   "source": [
    "data_raw.head()"
   ]
  },
  {
   "cell_type": "code",
   "execution_count": 79,
   "metadata": {},
   "outputs": [],
   "source": [
    "# Re-categorize\n",
    "neighbor_high = ['NoRidge','NridgHt','StoneBr']\n",
    "\n",
    "for i in range(len(data_raw.Neighborhood)):\n",
    "    if data_raw.Neighborhood.values[i] in neighbor_high:\n",
    "        data_raw.Neighborhood.values[i] = 'High'\n",
    "    else:\n",
    "        data_raw.Neighborhood.values[i] = 'Low'\n",
    "\n"
   ]
  },
  {
   "cell_type": "code",
   "execution_count": 80,
   "metadata": {},
   "outputs": [
    {
     "name": "stderr",
     "output_type": "stream",
     "text": [
      "C:\\Users\\alexliuyi\\Anaconda3\\envs\\python3.7\\lib\\site-packages\\ipykernel_launcher.py:9: SettingWithCopyWarning: \n",
      "A value is trying to be set on a copy of a slice from a DataFrame.\n",
      "Try using .loc[row_indexer,col_indexer] = value instead\n",
      "\n",
      "See the caveats in the documentation: http://pandas.pydata.org/pandas-docs/stable/indexing.html#indexing-view-versus-copy\n",
      "  if __name__ == '__main__':\n"
     ]
    }
   ],
   "source": [
    "# Impute Missing Value\n",
    "for i in range(len(data_raw.KitchenQual)):\n",
    "    if pd.isnull(data_raw.KitchenQual.values[i])>0 :\n",
    "        data_raw.KitchenQual.values[i] = 'TA'\n",
    "\n",
    "# Continuous Variable\n",
    "cont_var = ['GarageArea','TotalBsmtSF','YearBuilt']\n",
    "for i in cont_var:\n",
    "    data_raw[i] = data_raw[i].replace(np.nan, np.mean(data_raw[i]))\n"
   ]
  },
  {
   "cell_type": "code",
   "execution_count": 81,
   "metadata": {},
   "outputs": [
    {
     "name": "stderr",
     "output_type": "stream",
     "text": [
      "C:\\Users\\alexliuyi\\Anaconda3\\envs\\python3.7\\lib\\site-packages\\ipykernel_launcher.py:6: SettingWithCopyWarning: \n",
      "A value is trying to be set on a copy of a slice from a DataFrame.\n",
      "Try using .loc[row_indexer,col_indexer] = value instead\n",
      "\n",
      "See the caveats in the documentation: http://pandas.pydata.org/pandas-docs/stable/indexing.html#indexing-view-versus-copy\n",
      "  \n"
     ]
    }
   ],
   "source": [
    "# LabelEncoder\n",
    "label = LabelEncoder()\n",
    "label_var = ['BldgType','ExterQual','KitchenQual','Neighborhood','YearBuilt']\n",
    "\n",
    "for var in label_var:\n",
    "    data_raw[var] = label.fit_transform(data_raw[var])\n"
   ]
  },
  {
   "cell_type": "code",
   "execution_count": 33,
   "metadata": {},
   "outputs": [
    {
     "name": "stderr",
     "output_type": "stream",
     "text": [
      "C:\\Users\\alexliuyi\\Anaconda3\\envs\\python3.7\\lib\\site-packages\\sklearn\\preprocessing\\_encoders.py:363: FutureWarning: The handling of integer data will change in version 0.22. Currently, the categories are determined based on the range [0, max(values)], while in the future they will be determined based on the unique values.\n",
      "If you want the future behaviour and silence this warning, you can specify \"categories='auto'\".\n",
      "In case you used a LabelEncoder before this OneHotEncoder to convert the categories to integers, then you can now use the OneHotEncoder directly.\n",
      "  warnings.warn(msg, FutureWarning)\n"
     ]
    }
   ],
   "source": [
    "# Onehot Encoding\n",
    "data_feature_array = data_raw[label_var].values\n",
    "\n",
    "data_list = data_feature_array.tolist()\n",
    "\n",
    "onehot = OneHotEncoder()\n",
    "\n",
    "onehot.fit(data_list)\n",
    "\n",
    "data_onehot = onehot.transform(data_list).toarray()"
   ]
  },
  {
   "cell_type": "code",
   "execution_count": 82,
   "metadata": {},
   "outputs": [],
   "source": [
    "final_var = ['TotalBsmtSF','GrLivArea','GarageArea']\n",
    "\n",
    "data_final = np.hstack((data_raw[final_var], data_onehot))"
   ]
  },
  {
   "cell_type": "code",
   "execution_count": 83,
   "metadata": {},
   "outputs": [
    {
     "name": "stdout",
     "output_type": "stream",
     "text": [
      "(1460, 136) (1459, 136) (1460,)\n"
     ]
    }
   ],
   "source": [
    "X_train = data_final[0:1460,:]\n",
    "X_test  = data_final[1460:,:]\n",
    "\n",
    "Y_train = data_raw.SalePrice.values[0:1460]\n",
    "\n",
    "print(X_train.shape, X_test.shape, Y_train.shape)"
   ]
  },
  {
   "cell_type": "code",
   "execution_count": 84,
   "metadata": {},
   "outputs": [],
   "source": [
    "X_model, X_validate, y_model, y_validate = train_test_split(X_train, Y_train, test_size=1/4, random_state=0)"
   ]
  },
  {
   "cell_type": "code",
   "execution_count": 85,
   "metadata": {},
   "outputs": [],
   "source": [
    "scaler = MinMaxScaler()\n",
    "\n",
    "X_model_scaled = scaler.fit_transform(X_model)\n",
    "X_validate_scaled = scaler.transform(X_validate)\n",
    "X_test_scaled = scaler.transform(X_test)\n"
   ]
  },
  {
   "cell_type": "code",
   "execution_count": 8,
   "metadata": {},
   "outputs": [
    {
     "ename": "NameError",
     "evalue": "name 'X_model_scaled' is not defined",
     "output_type": "error",
     "traceback": [
      "\u001b[1;31m---------------------------------------------------------------------------\u001b[0m",
      "\u001b[1;31mNameError\u001b[0m                                 Traceback (most recent call last)",
      "\u001b[1;32m<ipython-input-8-6ab52a5abff3>\u001b[0m in \u001b[0;36m<module>\u001b[1;34m\u001b[0m\n\u001b[0;32m      4\u001b[0m \u001b[1;33m\u001b[0m\u001b[0m\n\u001b[0;32m      5\u001b[0m \u001b[0mLR\u001b[0m \u001b[1;33m=\u001b[0m \u001b[0mLinearRegression\u001b[0m\u001b[1;33m(\u001b[0m\u001b[1;33m)\u001b[0m\u001b[1;33m\u001b[0m\u001b[1;33m\u001b[0m\u001b[0m\n\u001b[1;32m----> 6\u001b[1;33m \u001b[0mLR\u001b[0m\u001b[1;33m.\u001b[0m\u001b[0mfit\u001b[0m\u001b[1;33m(\u001b[0m\u001b[0mX_model_scaled\u001b[0m\u001b[1;33m,\u001b[0m \u001b[0my_model\u001b[0m\u001b[1;33m)\u001b[0m\u001b[1;33m\u001b[0m\u001b[1;33m\u001b[0m\u001b[0m\n\u001b[0m\u001b[0;32m      7\u001b[0m \u001b[0mMSE\u001b[0m \u001b[1;33m=\u001b[0m \u001b[0mmean_squared_log_error\u001b[0m\u001b[1;33m(\u001b[0m\u001b[0mLR\u001b[0m\u001b[1;33m.\u001b[0m\u001b[0mpredict\u001b[0m\u001b[1;33m(\u001b[0m\u001b[0mX_validate_scaled\u001b[0m\u001b[1;33m)\u001b[0m\u001b[1;33m,\u001b[0m \u001b[0my_validate\u001b[0m\u001b[1;33m)\u001b[0m\u001b[1;33m\u001b[0m\u001b[1;33m\u001b[0m\u001b[0m\n\u001b[0;32m      8\u001b[0m \u001b[0mprint\u001b[0m\u001b[1;33m(\u001b[0m\u001b[0mMSE\u001b[0m\u001b[1;33m)\u001b[0m\u001b[1;33m\u001b[0m\u001b[1;33m\u001b[0m\u001b[0m\n",
      "\u001b[1;31mNameError\u001b[0m: name 'X_model_scaled' is not defined"
     ]
    }
   ],
   "source": [
    "from sklearn.linear_model import LinearRegression, LassoCV, RidgeCV\n",
    "from sklearn.model_selection import GridSearchCV\n",
    "from sklearn.metrics import mean_squared_log_error\n",
    "\n",
    "LR = LinearRegression()\n",
    "LR.fit(X_model_scaled, y_model)\n",
    "MSE = mean_squared_log_error(LR.predict(X_validate_scaled), y_validate)\n",
    "print(MSE)\n"
   ]
  },
  {
   "cell_type": "code",
   "execution_count": 137,
   "metadata": {},
   "outputs": [
    {
     "name": "stdout",
     "output_type": "stream",
     "text": [
      "0.0315602442512167\n"
     ]
    }
   ],
   "source": [
    "Lasso = LassoCV(cv=5, alphas=[500])\n",
    "Lasso.fit(X_model_scaled, y_model)\n",
    "MSE = mean_squared_log_error(Lasso.predict(X_validate_scaled), y_validate)\n",
    "print(MSE)"
   ]
  },
  {
   "cell_type": "code",
   "execution_count": 99,
   "metadata": {},
   "outputs": [
    {
     "name": "stdout",
     "output_type": "stream",
     "text": [
      "RidgeCV(alphas=array([1.e-04, 1.e-03, 1.e-01, 1.e+00, 1.e+01, 1.e+02, 1.e+03]),\n",
      "    cv=5, fit_intercept=True, gcv_mode=None, normalize=True, scoring=None,\n",
      "    store_cv_values=False)\n",
      "0.03968171142204396\n"
     ]
    }
   ],
   "source": [
    "Ridge = RidgeCV(cv=5, alphas=[0.0001,0.001,0.1,1,10,100,1000], normalize= True)\n",
    "Ridge.fit(X_model_scaled, y_model)\n",
    "print(Ridge)\n",
    "MSE = mean_squared_log_error(Ridge.predict(X_validate_scaled), y_validate)\n",
    "print(MSE)"
   ]
  },
  {
   "cell_type": "code",
   "execution_count": 138,
   "metadata": {},
   "outputs": [],
   "source": [
    "predicted = Lasso.predict(X_test_scaled)"
   ]
  },
  {
   "cell_type": "code",
   "execution_count": 139,
   "metadata": {},
   "outputs": [],
   "source": [
    "result = pd.DataFrame(predicted)"
   ]
  },
  {
   "cell_type": "code",
   "execution_count": 140,
   "metadata": {},
   "outputs": [],
   "source": [
    "result.to_csv('C:\\\\Users\\\\alexliuyi\\\\Documents\\\\Kaggle\\\\Home Price\\\\result.csv')"
   ]
  },
  {
   "cell_type": "code",
   "execution_count": 562,
   "metadata": {},
   "outputs": [
    {
     "data": {
      "text/plain": [
       "array([3.85075478e+08, 5.17631223e+08, 5.58961423e+08, ...,\n",
       "       4.97689082e+08, 3.54414899e+08, 6.73569877e+08])"
      ]
     },
     "execution_count": 562,
     "metadata": {},
     "output_type": "execute_result"
    }
   ],
   "source": [
    "LR.predict(X_test)"
   ]
  },
  {
   "cell_type": "code",
   "execution_count": null,
   "metadata": {},
   "outputs": [],
   "source": []
  }
 ],
 "metadata": {
  "kernelspec": {
   "display_name": "Python 3",
   "language": "python",
   "name": "python3"
  },
  "language_info": {
   "codemirror_mode": {
    "name": "ipython",
    "version": 3
   },
   "file_extension": ".py",
   "mimetype": "text/x-python",
   "name": "python",
   "nbconvert_exporter": "python",
   "pygments_lexer": "ipython3",
   "version": "3.6.7"
  }
 },
 "nbformat": 4,
 "nbformat_minor": 2
}
